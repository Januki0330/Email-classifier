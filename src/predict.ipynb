{
 "cells": [
  {
   "cell_type": "code",
   "execution_count": 1,
   "metadata": {},
   "outputs": [],
   "source": [
    "import pandas as pd\n",
    "import pickle"
   ]
  },
  {
   "cell_type": "code",
   "execution_count": 2,
   "metadata": {},
   "outputs": [],
   "source": [
    "# Load model\n",
    "with open('model.pkl', 'rb') as f:\n",
    "    model = pickle.load(f)"
   ]
  },
  {
   "cell_type": "code",
   "execution_count": 3,
   "metadata": {},
   "outputs": [],
   "source": [
    "# Column names (same as training)\n",
    "columns = [\n",
    "    'word_freq_make', 'word_freq_address', 'word_freq_all', 'word_freq_3d',\n",
    "    'word_freq_our', 'word_freq_over', 'word_freq_remove', 'word_freq_internet',\n",
    "    'word_freq_order', 'word_freq_mail', 'word_freq_receive', 'word_freq_will',\n",
    "    'word_freq_people', 'word_freq_report', 'word_freq_addresses', 'word_freq_free',\n",
    "    'word_freq_business', 'word_freq_email', 'word_freq_you', 'word_freq_credit',\n",
    "    'word_freq_your', 'word_freq_font', 'word_freq_000', 'word_freq_money',\n",
    "    'word_freq_hp', 'word_freq_hpl', 'word_freq_george', 'word_freq_650',\n",
    "    'word_freq_lab', 'word_freq_labs', 'word_freq_telnet', 'word_freq_857',\n",
    "    'word_freq_data', 'word_freq_415', 'word_freq_85', 'word_freq_technology',\n",
    "    'word_freq_1999', 'word_freq_parts', 'word_freq_pm', 'word_freq_direct',\n",
    "    'word_freq_cs', 'word_freq_meeting', 'word_freq_original', 'word_freq_project',\n",
    "    'word_freq_re', 'word_freq_edu', 'word_freq_table', 'word_freq_conference',\n",
    "    'char_freq_;', 'char_freq_(', 'char_freq_[', 'char_freq_!', 'char_freq_$',\n",
    "    'char_freq_#', 'capital_run_length_average', 'capital_run_length_longest',\n",
    "    'capital_run_length_total'\n",
    "]"
   ]
  },
  {
   "cell_type": "code",
   "execution_count": 5,
   "metadata": {},
   "outputs": [],
   "source": [
    "# Sample input (57 features, mimicking spambase.data)\n",
    "sample = [0.0] * 57    # Flat list of 57 zeros\n",
    "sample[15] = 1.0       # Set 'word_freq_free' to 1 (16th element, index 15)\n",
    "sample[23] = 0.5       # Set 'word_freq_money' to 0.5 (24th element, index 23)\n",
    "sample_df = pd.DataFrame([sample], columns=columns)  # Wrap in list for DataFrame"
   ]
  },
  {
   "cell_type": "code",
   "execution_count": 6,
   "metadata": {},
   "outputs": [
    {
     "name": "stdout",
     "output_type": "stream",
     "text": [
      "Prediction: Spam\n"
     ]
    }
   ],
   "source": [
    "# Predict\n",
    "prediction = model.predict(sample_df)\n",
    "print(\"Prediction:\", \"Spam\" if prediction[0] == 1 else \"Ham\")"
   ]
  }
 ],
 "metadata": {
  "kernelspec": {
   "display_name": "Python 3",
   "language": "python",
   "name": "python3"
  },
  "language_info": {
   "codemirror_mode": {
    "name": "ipython",
    "version": 3
   },
   "file_extension": ".py",
   "mimetype": "text/x-python",
   "name": "python",
   "nbconvert_exporter": "python",
   "pygments_lexer": "ipython3",
   "version": "3.13.2"
  }
 },
 "nbformat": 4,
 "nbformat_minor": 2
}

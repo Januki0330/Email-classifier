{
 "cells": [
  {
   "cell_type": "code",
   "execution_count": 1,
   "metadata": {},
   "outputs": [],
   "source": [
    "import pandas as pd\n",
    "import pickle\n",
    "import re\n",
    "from collections import Counter"
   ]
  },
  {
   "cell_type": "code",
   "execution_count": 2,
   "metadata": {},
   "outputs": [],
   "source": [
    "# Load the trained model\n",
    "with open('model.pkl', 'rb') as f:\n",
    "    model = pickle.load(f)"
   ]
  },
  {
   "cell_type": "code",
   "execution_count": 3,
   "metadata": {},
   "outputs": [],
   "source": [
    "# Define the 57 feature columns\n",
    "columns = [\n",
    "    'word_freq_make', 'word_freq_address', 'word_freq_all', 'word_freq_3d',\n",
    "    'word_freq_our', 'word_freq_over', 'word_freq_remove', 'word_freq_internet',\n",
    "    'word_freq_order', 'word_freq_mail', 'word_freq_receive', 'word_freq_will',\n",
    "    'word_freq_people', 'word_freq_report', 'word_freq_addresses', 'word_freq_free',\n",
    "    'word_freq_business', 'word_freq_email', 'word_freq_you', 'word_freq_credit',\n",
    "    'word_freq_your', 'word_freq_font', 'word_freq_000', 'word_freq_money',\n",
    "    'word_freq_hp', 'word_freq_hpl', 'word_freq_george', 'word_freq_650',\n",
    "    'word_freq_lab', 'word_freq_labs', 'word_freq_telnet', 'word_freq_857',\n",
    "    'word_freq_data', 'word_freq_415', 'word_freq_85', 'word_freq_technology',\n",
    "    'word_freq_1999', 'word_freq_parts', 'word_freq_pm', 'word_freq_direct',\n",
    "    'word_freq_cs', 'word_freq_meeting', 'word_freq_original', 'word_freq_project',\n",
    "    'word_freq_re', 'word_freq_edu', 'word_freq_table', 'word_freq_conference',\n",
    "    'char_freq_;', 'char_freq_(', 'char_freq_[', 'char_freq_!', 'char_freq_$',\n",
    "    'char_freq_#', 'capital_run_length_average', 'capital_run_length_longest',\n",
    "    'capital_run_length_total'\n",
    "]"
   ]
  },
  {
   "cell_type": "code",
   "execution_count": 4,
   "metadata": {},
   "outputs": [],
   "source": [
    "# Words and chars to extract\n",
    "target_words = [\n",
    "    'make', 'address', 'all', '3d', 'our', 'over', 'remove', 'internet', 'order',\n",
    "    'mail', 'receive', 'will', 'people', 'report', 'addresses', 'free', 'business',\n",
    "    'email', 'you', 'credit', 'your', 'font', '000', 'money', 'hp', 'hpl', 'george',\n",
    "    '650', 'lab', 'labs', 'telnet', '857', 'data', '415', '85', 'technology',\n",
    "    '1999', 'parts', 'pm', 'direct', 'cs', 'meeting', 'original', 'project', 're',\n",
    "    'edu', 'table', 'conference'\n",
    "]\n",
    "target_chars = [';', '(', '[', '!', '$', '#']"
   ]
  },
  {
   "cell_type": "code",
   "execution_count": 5,
   "metadata": {},
   "outputs": [],
   "source": [
    "# Function to extract features from email text\n",
    "def extract_features(email_text):\n",
    "    email_text = email_text.lower()\n",
    "    words = re.findall(r'\\w+', email_text)\n",
    "    total_words = len(words) or 1\n",
    "    word_counts = Counter(words)\n",
    "    \n",
    "    # Word frequencies\n",
    "    word_features = [(word_counts[word] / total_words) * 100 for word in target_words]\n",
    "    \n",
    "    # Character frequencies\n",
    "    total_chars = len(email_text) or 1\n",
    "    char_features = [(email_text.count(char) / total_chars) * 100 for char in target_chars]\n",
    "    \n",
    "    # Capital run features\n",
    "    capital_runs = []\n",
    "    current_run = 0\n",
    "    for char in email_text.upper():\n",
    "        if char.isupper():\n",
    "            current_run += 1\n",
    "        elif current_run > 0:\n",
    "            capital_runs.append(current_run)\n",
    "            current_run = 0\n",
    "    if current_run > 0:\n",
    "        capital_runs.append(current_run)\n",
    "    \n",
    "    avg_capital_run = sum(capital_runs) / len(capital_runs) if capital_runs else 0\n",
    "    longest_capital_run = max(capital_runs) if capital_runs else 0\n",
    "    total_capital_run = sum(capital_runs) if capital_runs else 0\n",
    "    \n",
    "    # Combine features\n",
    "    features = word_features + char_features + [avg_capital_run, longest_capital_run, total_capital_run]\n",
    "    return features"
   ]
  },
  {
   "cell_type": "code",
   "execution_count": null,
   "metadata": {},
   "outputs": [],
   "source": [
    "# Sample email\n",
    "sample_email = \"Win a FREE iPhone NOW! Click here!!! $500 prize awaits YOU.\"\n",
    "features = extract_features(sample_email)\n",
    "sample_df = pd.DataFrame([features], columns=columns)"
   ]
  },
  {
   "cell_type": "code",
   "execution_count": 7,
   "metadata": {},
   "outputs": [
    {
     "name": "stdout",
     "output_type": "stream",
     "text": [
      "Email: Win a FREE iPhone NOW! Click here!!! $500 prize awaits YOU.\n",
      "Prediction: Spam\n"
     ]
    }
   ],
   "source": [
    "\n",
    "# Predict\n",
    "prediction = model.predict(sample_df)\n",
    "print(\"Email:\", sample_email)\n",
    "print(\"Prediction:\", \"Spam\" if prediction[0] == 1 else \"Ham\")"
   ]
  }
 ],
 "metadata": {
  "kernelspec": {
   "display_name": "Python 3",
   "language": "python",
   "name": "python3"
  },
  "language_info": {
   "codemirror_mode": {
    "name": "ipython",
    "version": 3
   },
   "file_extension": ".py",
   "mimetype": "text/x-python",
   "name": "python",
   "nbconvert_exporter": "python",
   "pygments_lexer": "ipython3",
   "version": "3.13.2"
  }
 },
 "nbformat": 4,
 "nbformat_minor": 2
}
